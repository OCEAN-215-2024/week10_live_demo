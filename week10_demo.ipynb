{
 "cells": [
  {
   "cell_type": "code",
   "execution_count": 10,
   "id": "a5632697-c658-40cb-906f-cc078d92024f",
   "metadata": {
    "tags": []
   },
   "outputs": [],
   "source": [
    "import pandas as pd\n",
    "import numpy as np\n",
    "import matplotlib.pyplot as plt"
   ]
  },
  {
   "cell_type": "markdown",
   "id": "f7f9cb07-07c6-4e2c-8f19-389c054785f4",
   "metadata": {},
   "source": [
    "## Temperature-Salinity Plots\n",
    "Temperature-Salinity (TS) diagrams provide information on water masses. Density is a function of these two parameters, and tracking changes in TS over time and/or depth can show if a new water mass has been encountered. \n",
    "<img src = https://upload.wikimedia.org/wikipedia/commons/5/5a/T-S_Diagram_showing_Water_Mass_Locations.png width = 500>\n",
    "\n",
    "Today, we will be pulling temperature and salinity data from 10 different cruises in the North Pacific. First, we will write a function to clean the data. Next, we will write a function to plot our diagrams. "
   ]
  },
  {
   "cell_type": "markdown",
   "id": "542bf398-03fc-4468-a236-e2b335e35b57",
   "metadata": {},
   "source": [
    "# Grab the data from URLs\n",
    "The data is stored in a GitHub repository, and the cruise files are organized by name and instrument. We will manipulate the strings to pull each cruise from the path. "
   ]
  },
  {
   "cell_type": "code",
   "execution_count": null,
   "id": "fa85073f-11a5-48ed-a116-50d7eae9bc62",
   "metadata": {},
   "outputs": [],
   "source": []
  },
  {
   "cell_type": "markdown",
   "id": "386b9b5c-5b9e-49c8-985c-790ed8d11124",
   "metadata": {},
   "source": [
    "# Create TS plots from cleaned data"
   ]
  },
  {
   "cell_type": "code",
   "execution_count": null,
   "id": "117dc4b6-e5c0-4b24-8ca4-7737af583f8e",
   "metadata": {},
   "outputs": [],
   "source": []
  }
 ],
 "metadata": {
  "kernelspec": {
   "display_name": "Python 3 (ipykernel)",
   "language": "python",
   "name": "python3"
  },
  "language_info": {
   "codemirror_mode": {
    "name": "ipython",
    "version": 3
   },
   "file_extension": ".py",
   "mimetype": "text/x-python",
   "name": "python",
   "nbconvert_exporter": "python",
   "pygments_lexer": "ipython3",
   "version": "3.10.10"
  }
 },
 "nbformat": 4,
 "nbformat_minor": 5
}
